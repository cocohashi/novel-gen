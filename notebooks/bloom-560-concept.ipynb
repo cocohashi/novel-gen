{
 "cells": [
  {
   "cell_type": "markdown",
   "id": "e8ed41ae-07c0-4f07-9cf0-a84ba0a2aff8",
   "metadata": {},
   "source": [
    "# BLOOM-560 Concept Prove"
   ]
  },
  {
   "cell_type": "code",
   "execution_count": 26,
   "id": "e4190fc0-b08c-4c93-8418-37aa0fee3d1b",
   "metadata": {},
   "outputs": [],
   "source": [
    "## Import Libraries\n",
    "\n",
    "import os\n",
    "\n",
    "import torch\n",
    "import torch.nn as nn\n",
    "\n",
    "from transformers import AutoTokenizer, AutoModel, pipeline\n",
    "from transformers import BloomModel, BloomConfig, BloomTokenizerFast, BloomForCausalLM\n",
    "from transformers.models.bloom.modeling_bloom import BloomBlock, build_alibi_tensor\n"
   ]
  },
  {
   "cell_type": "code",
   "execution_count": 18,
   "id": "630156b2-d49b-429b-9d89-7d872345bae9",
   "metadata": {},
   "outputs": [
    {
     "name": "stdout",
     "output_type": "stream",
     "text": [
      "/home/hasier/projects/novel-gen/models/bloom-560m/pytorch_model.bin\n"
     ]
    }
   ],
   "source": [
    "# Config\n",
    "\n",
    "MODEL_PATH = '/home/hasier/projects/novel-gen/models/bloom-560m'\n",
    "MODEL_BIN_FILENAME = 'pytorch_model.bin'\n",
    "DEVICE = 'cpu'\n",
    "\n",
    "bin_model_path = os.path.join(MODEL_PATH, MODEL_BIN_FILENAME)\n",
    "print(bin_model_path)"
   ]
  },
  {
   "cell_type": "code",
   "execution_count": 27,
   "id": "c482290d-4815-42b5-9ce2-d6256777e7d2",
   "metadata": {},
   "outputs": [],
   "source": [
    "# Import tokenizer and model\n",
    "\n",
    "tokenizer = AutoTokenizer.from_pretrained(MODEL_PATH)\n",
    "model = AutoModel.from_pretrained(MODEL_PATH)"
   ]
  },
  {
   "cell_type": "code",
   "execution_count": 31,
   "id": "05743382-edec-4f76-9987-7cf0bbc71bf0",
   "metadata": {},
   "outputs": [
    {
     "name": "stdout",
     "output_type": "stream",
     "text": [
      "{'input_ids': [1411, 267, 53823, 361, 368, 21422, 2782, 65532, 267, 30213, 9107, 17], 'attention_mask': [1, 1, 1, 1, 1, 1, 1, 1, 1, 1, 1, 1]}\n"
     ]
    }
   ],
   "source": [
    "# Verification\n",
    "\n",
    "sequence = \"In a hole in the ground there lived a hobbit.\"\n",
    "print(tokenizer(sequence))"
   ]
  },
  {
   "cell_type": "code",
   "execution_count": 33,
   "id": "b111e201-adc4-4aa6-8abc-0f74ee20f1f2",
   "metadata": {},
   "outputs": [],
   "source": [
    "model_lm = BloomForCausalLM.from_pretrained(MODEL_PATH)"
   ]
  },
  {
   "cell_type": "code",
   "execution_count": 65,
   "id": "e9812f81-6ece-494d-be21-6503a786e71b",
   "metadata": {},
   "outputs": [
    {
     "name": "stdout",
     "output_type": "stream",
     "text": [
      "{'input_ids': tensor([[ 22366,   1619,  55471,  14317,  70025,  16310,   6321,    966, 176213,\n",
      "           3325,     87,   1717,   8322,  37294,  92580, 100215,     17, 163333,\n",
      "            573,   9196,   2839, 139203,  20556]]), 'attention_mask': tensor([[1, 1, 1, 1, 1, 1, 1, 1, 1, 1, 1, 1, 1, 1, 1, 1, 1, 1, 1, 1, 1, 1, 1]])}\n"
     ]
    }
   ],
   "source": [
    "# Load torch model\n",
    "\n",
    "prompt = \"Basketball is a team sport in which two teams, most commonly of five players each, \"\n",
    "prompt_02 = \"In a hole in the ground there lived a hobbit.\"\n",
    "prompt_03 = \"write a python code to get the maximun number of an array: \"\n",
    "promt_04 = \"Partida irabazteko helburu duten ekintzei taktika edo estrategia deitzen zaie. Saskibaloiko jokalariak\"\n",
    "\n",
    "input_ids = tokenizer(promt_04, return_tensors=\"pt\")\n",
    "\n",
    "print(input_ids)\n"
   ]
  },
  {
   "cell_type": "code",
   "execution_count": 66,
   "id": "7fc13904-a2f0-46fc-b736-3cab2bf9ff91",
   "metadata": {},
   "outputs": [],
   "source": [
    "sample = model_lm.generate(**input_ids, max_new_tokens=200, top_k=0, temperature=0.7)"
   ]
  },
  {
   "cell_type": "code",
   "execution_count": 67,
   "id": "0e50a2d3-5b8a-4ed8-a765-ebecc9d1f9fd",
   "metadata": {},
   "outputs": [
    {
     "name": "stdout",
     "output_type": "stream",
     "text": [
      "tensor([ 22366,   1619,  55471,  14317,  70025,  16310,   6321,    966, 176213,\n",
      "          3325,     87,   1717,   8322,  37294,  92580, 100215,     17, 163333,\n",
      "           573,   9196,   2839, 139203,  20556,     15,  14786, 146351,    902,\n",
      "            15,  21742,  96839,     15,   1278,   9184,  25583,  17045,   6294,\n",
      "            15,   1278,     15,  88440,     15,  37294,   2112,   7239,   7949,\n",
      "            17,      2])\n"
     ]
    }
   ],
   "source": [
    "print(sample[0])"
   ]
  },
  {
   "cell_type": "code",
   "execution_count": 68,
   "id": "b8d3b7c6-8caf-41b8-892d-4f7f8b785185",
   "metadata": {},
   "outputs": [
    {
     "name": "stdout",
     "output_type": "stream",
     "text": [
      "Partida irabazteko helburu duten ekintzei taktika edo estrategia deitzen zaie. Saskibaloiko jokalariak, taldekideek, entrenatzaileak, eta beste hainbat pertsona dira, eta, horregatik, estrategia bat behar dute.</s>\n"
     ]
    }
   ],
   "source": [
    "print(tokenizer.decode(sample[0]))"
   ]
  },
  {
   "cell_type": "code",
   "execution_count": null,
   "id": "73bf9435-7600-4eca-ac37-ef2942e75c6b",
   "metadata": {},
   "outputs": [],
   "source": []
  }
 ],
 "metadata": {
  "kernelspec": {
   "display_name": "Python 3 (ipykernel)",
   "language": "python",
   "name": "python3"
  },
  "language_info": {
   "codemirror_mode": {
    "name": "ipython",
    "version": 3
   },
   "file_extension": ".py",
   "mimetype": "text/x-python",
   "name": "python",
   "nbconvert_exporter": "python",
   "pygments_lexer": "ipython3",
   "version": "3.8.13"
  }
 },
 "nbformat": 4,
 "nbformat_minor": 5
}
